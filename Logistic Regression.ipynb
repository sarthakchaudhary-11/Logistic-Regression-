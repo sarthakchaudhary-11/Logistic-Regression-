{
 "cells": [
  {
   "cell_type": "markdown",
   "id": "28b151eb",
   "metadata": {},
   "source": [
    "# Theoretical"
   ]
  },
  {
   "cell_type": "markdown",
   "id": "9fee542d",
   "metadata": {},
   "source": [
    "# Logistic Regression Assignment\n",
    "\n",
    "## 1. What is Logistic Regression, and how does it differ from Linear Regression?\n",
    "\n",
    "**Logistic Regression** is a statistical and machine learning model used for **classification tasks**. It predicts the probability that an observation belongs to a particular class by applying the **sigmoid (logistic) function** to a linear equation.\n",
    "\n",
    "### **Key Differences:**\n",
    "\n",
    "| Feature               | Logistic Regression             | Linear Regression        |\n",
    "| --------------------- | ------------------------------- | ------------------------ |\n",
    "| **Task**              | Classification                  | Regression               |\n",
    "| **Output**            | Probability (0-1)               | Continuous Value         |\n",
    "| **Function**          | Sigmoid Function                | Linear Function          |\n",
    "| **Loss Function**     | Log Loss (Binary Cross-Entropy) | Mean Squared Error (MSE) |\n",
    "| **Decision Boundary** | Non-linear                      | Linear                   |\n",
    "\n",
    "## 2. What is the mathematical equation of Logistic Regression?\n",
    "\n",
    "The equation for Logistic Regression is:\n",
    "\n",
    "$$\n",
    "P(y=1|x) = \\frac{1}{1 + e^{-(b + w_1x_1 + w_2x_2 + \\cdots + w_nx_n)}}\n",
    "$$\n",
    "\n",
    "Where:\n",
    "\n",
    "- \\(P(y=1|x)\\): Probability of the positive class.\n",
    "- \\(b\\): Bias term (intercept).\n",
    "- \\(w\\): Weights (coefficients).\n",
    "- \\(x\\): Features.\n",
    "\n",
    "## 3. Why do we use the Sigmoid function in Logistic Regression?\n",
    "\n",
    "The sigmoid function maps any real number to a value between 0 and 1, which represents a probability. The equation is:\n",
    "\n",
    "$$\n",
    "sigmoid(z) = \\frac{1}{1 + e^{-z}}\n",
    "$$\n",
    "\n",
    "Where \\(z = b + wx\\). This ensures the model outputs valid probabilities.\n",
    "\n",
    "## 4. What is the cost function of Logistic Regression?\n",
    "\n",
    "Logistic Regression uses **Log Loss (Binary Cross-Entropy Loss)**:\n",
    "\n",
    "$$\n",
    "Cost = -\\frac{1}{m} \\sum_{i=1}^{m} \\left[y_i\\log(\\hat{y_i}) + (1-y_i)\\log(1-\\hat{y_i})\\right]\n",
    "$$\n",
    "\n",
    "This penalizes wrong predictions more heavily as the confidence in the incorrect prediction increases.\n",
    "\n",
    "## 5. What is Regularization in Logistic Regression? Why is it needed?\n",
    "\n",
    "Regularization adds a penalty term to the cost function to **prevent overfitting**. It helps the model generalize better to unseen data.\n",
    "\n",
    "## 6. Explain the difference between Lasso, Ridge, and Elastic Net regression.\n",
    "\n",
    "| Regression Type | Regularization           | Description                                                  |   |                                                                   |\n",
    "| --------------- | ------------------------ | ------------------------------------------------------------ | - | ----------------------------------------------------------------- |\n",
    "| **Ridge (L2)**  | \\(\\lambda \\sum w^2\\)     | Shrinks coefficients towards zero but never makes them zero. |   |                                                                   |\n",
    "| **Lasso (L1)**  | (\\lambda \\sum            | w                                                            | ) | Can shrink some coefficients to exactly zero (feature selection). |\n",
    "| **Elastic Net** | Combination of L1 and L2 | Balances shrinkage and feature selection.                    |   |                                                                   |\n",
    "\n",
    "## 7. When should we use Elastic Net instead of Lasso or Ridge?\n",
    "\n",
    "Elastic Net is preferable when:\n",
    "\n",
    "- **Multicollinearity** exists.\n",
    "- The dataset has **many features**, some of which are **correlated**.\n",
    "\n",
    "## 8. What is the impact of the regularization parameter (λ) in Logistic Regression?\n",
    "\n",
    "The regularization parameter **λ** controls the strength of regularization:\n",
    "\n",
    "- **Higher λ**: More regularization → simpler model, less overfitting.\n",
    "- **Lower λ**: Less regularization → complex model, possible overfitting.\n",
    "\n",
    "## 9. What are the key assumptions of Logistic Regression?\n",
    "\n",
    "1. **Linearity of predictors** with the log-odds.\n",
    "2. **No multicollinearity** between independent variables.\n",
    "3. **Independent observations**.\n",
    "4. **Large sample size** for better performance.\n",
    "\n",
    "## 10. What are some alternatives to Logistic Regression for classification tasks?\n",
    "\n",
    "- **K-Nearest Neighbors (KNN)**\n",
    "- **Decision Trees**\n",
    "- **Random Forests**\n",
    "- **Support Vector Machines (SVM)**\n",
    "- **Naive Bayes**\n",
    "\n",
    "## 11. What are Classification Evaluation Metrics?\n",
    "\n",
    "- **Accuracy**: Overall correctness.\n",
    "- **Precision**: True Positives / (True Positives + False Positives).\n",
    "- **Recall**: True Positives / (True Positives + False Negatives).\n",
    "- **F1 Score**: Harmonic mean of precision and recall.\n",
    "- **ROC-AUC**: Area under the ROC curve.\n",
    "\n",
    "## 12. How does class imbalance affect Logistic Regression?\n",
    "\n",
    "Class imbalance can cause the model to predict the majority class more often. Solutions include:\n",
    "\n",
    "- **Resampling techniques** (oversampling/undersampling).\n",
    "- **Class-weight adjustment**.\n",
    "- **Use of advanced algorithms** like SMOTE.\n",
    "\n",
    "## 13. What is Hyperparameter Tuning in Logistic Regression?\n",
    "\n",
    "Hyperparameter tuning involves selecting the best model parameters (e.g., **regularization strength**). Techniques include:\n",
    "\n",
    "- **Grid Search**.\n",
    "- **Random Search**.\n",
    "- **Bayesian Optimization**.\n",
    "\n",
    "## 14. What are different solvers in Logistic Regression? Which one should be used?\n",
    "\n",
    "| Solver        | Description                 | Use Case                            |\n",
    "| ------------- | --------------------------- | ----------------------------------- |\n",
    "| **liblinear** | Coordinate Descent          | Smaller datasets, L1 regularization |\n",
    "| **saga**      | Stochastic Gradient Descent | Large datasets, L1/L2/Elastic Net   |\n",
    "| **lbfgs**     | Limited-memory BFGS         | Multinomial classification          |\n",
    "\n",
    "## 15. How is Logistic Regression extended for multiclass classification?\n",
    "\n",
    "- **One-vs-Rest (OvR)**: One classifier per class.\n",
    "- **Softmax Regression**: Generalizes Logistic Regression for multiple classes using the **softmax function**.\n",
    "\n",
    "## 16. What are the advantages and disadvantages of Logistic Regression?\n",
    "\n",
    "### Advantages:\n",
    "\n",
    "- **Simple** and **interpretable**.\n",
    "- Efficient for **linearly separable** data.\n",
    "- **Probabilistic outputs**.\n",
    "\n",
    "### Disadvantages:\n",
    "\n",
    "- **Linear decision boundary**.\n",
    "- **Sensitive** to outliers.\n",
    "- Assumes **independent features**.\n",
    "\n",
    "## 17. What are some use cases of Logistic Regression?\n",
    "\n",
    "- **Medical Diagnosis** (e.g., disease prediction).\n",
    "- **Email Spam Detection**.\n",
    "- **Customer Churn Prediction**.\n",
    "- **Credit Scoring**.\n",
    "\n",
    "## 18. What is the difference between Softmax Regression and Logistic Regression?\n",
    "\n",
    "| Feature      | Logistic Regression           | Softmax Regression          |\n",
    "| ------------ | ----------------------------- | --------------------------- |\n",
    "| **Task**     | Binary classification         | Multiclass classification   |\n",
    "| **Function** | Sigmoid                       | Softmax                     |\n",
    "| **Output**   | Probability of a single class | Probability for all classes |\n",
    "\n",
    "## 19. How do we choose between One-vs-Rest (OvR) and Softmax for multiclass classification?\n",
    "\n",
    "- **OvR**: Efficient for **high-dimensional data**.\n",
    "- **Softmax**: Better when **classes are balanced** and there are fewer features.\n",
    "\n",
    "## 20. How do we interpret coefficients in Logistic Regression?\n",
    "\n",
    "Each coefficient represents the **change in the log-odds** of the dependent variable for a **one-unit increase** in the predictor variable, assuming other variables remain constant.\n",
    "\n",
    "**Example:**\n",
    "\n",
    "- Coefficient = **2.3**: A **one-unit increase** in this predictor **increases the odds** of the positive class by a factor of **e²³**.\n",
    "\n",
    "\n",
    "\n"
   ]
  },
  {
   "cell_type": "code",
   "execution_count": null,
   "id": "c3d89b89",
   "metadata": {},
   "outputs": [],
   "source": []
  },
  {
   "cell_type": "markdown",
   "id": "4a2f98e6",
   "metadata": {},
   "source": [
    "# Practical"
   ]
  },
  {
   "cell_type": "markdown",
   "id": "572028fd",
   "metadata": {},
   "source": [
    "Q1 Write a Python program that loads a dataset, splits it into training and testing sets, applies Logistic\n",
    "Regression, and prints the model accuracy"
   ]
  },
  {
   "cell_type": "code",
   "execution_count": 52,
   "id": "c4260479",
   "metadata": {},
   "outputs": [
    {
     "name": "stdout",
     "output_type": "stream",
     "text": [
      "Model Accuracy: 1.00\n"
     ]
    }
   ],
   "source": [
    "import pandas as pd\n",
    "import pandas as pd\n",
    "import numpy as np\n",
    "import matplotlib.pyplot as plt\n",
    "import seaborn as sns\n",
    "\n",
    "import warnings\n",
    "warnings.filterwarnings('ignore')\n",
    "\n",
    "from sklearn.model_selection import train_test_split\n",
    "from sklearn.linear_model import LogisticRegression\n",
    "from sklearn.metrics import accuracy_score\n",
    "\n",
    "# Load the dataset (using the Iris dataset as an example)\n",
    "url = \"https://raw.githubusercontent.com/mwaskom/seaborn-data/master/iris.csv\"\n",
    "data = pd.read_csv(url)\n",
    "\n",
    "# Prepare the features and target\n",
    "X = data.drop('species', axis=1)\n",
    "y = data['species']\n",
    "\n",
    "# Split the data into training and testing sets\n",
    "X_train, X_test, y_train, y_test = train_test_split(X, y, test_size=0.2, random_state=42)\n",
    "\n",
    "# Create and train the Logistic Regression model\n",
    "model = LogisticRegression(max_iter=1000)\n",
    "model.fit(X_train, y_train)\n",
    "\n",
    "# Make predictions\n",
    "y_pred = model.predict(X_test)\n",
    "\n",
    "# Calculate and print the accuracy\n",
    "accuracy = accuracy_score(y_test, y_pred)\n",
    "print(f\"Model Accuracy: {accuracy:.2f}\")\n"
   ]
  },
  {
   "cell_type": "markdown",
   "id": "8dfa1631",
   "metadata": {},
   "source": [
    "Q2  Write a Python program to apply L1 regularization (Lasso) on a dataset using LogisticRegression(penalty='l1')\n",
    "and print the model accuracy\n"
   ]
  },
  {
   "cell_type": "code",
   "execution_count": 54,
   "id": "51a9c2cb",
   "metadata": {},
   "outputs": [
    {
     "name": "stdout",
     "output_type": "stream",
     "text": [
      "L1 Regularization (Lasso) Model Accuracy: 1.00\n",
      "Model Coefficients (L1): [[ 0.          2.36381496 -2.67275221  0.        ]\n",
      " [ 0.69420851 -1.78903302  0.24423126 -0.88902233]\n",
      " [-2.20250319 -2.83329687  3.20400233  3.7210544 ]]\n"
     ]
    }
   ],
   "source": [
    "import pandas as pd\n",
    "from sklearn.model_selection import train_test_split\n",
    "from sklearn.linear_model import LogisticRegression\n",
    "from sklearn.metrics import accuracy_score\n",
    "\n",
    "# Load the dataset (using the Iris dataset as an example)\n",
    "url = \"https://raw.githubusercontent.com/mwaskom/seaborn-data/master/iris.csv\"\n",
    "data = pd.read_csv(url)\n",
    "\n",
    "# Prepare the features and target\n",
    "X = data.drop('species', axis=1)\n",
    "y = data['species']\n",
    "\n",
    "# Split the data into training and testing sets\n",
    "X_train, X_test, y_train, y_test = train_test_split(X, y, test_size=0.2, random_state=42)\n",
    "\n",
    "# Create and train the Logistic Regression model with L1 regularization\n",
    "model_l1 = LogisticRegression(penalty='l1', solver='liblinear', max_iter=1000)\n",
    "model_l1.fit(X_train, y_train)\n",
    "\n",
    "# Make predictions\n",
    "y_pred = model_l1.predict(X_test)\n",
    "\n",
    "# Calculate and print the accuracy\n",
    "accuracy = accuracy_score(y_test, y_pred)\n",
    "print(f\"L1 Regularization (Lasso) Model Accuracy: {accuracy:.2f}\")\n",
    "\n",
    "# Print model coefficients\n",
    "print(\"Model Coefficients (L1):\", model_l1.coef_)\n"
   ]
  },
  {
   "cell_type": "markdown",
   "id": "342f3fb2",
   "metadata": {},
   "source": [
    "Q3 Write a Python program to train Logistic Regression with L2 regularization (Ridge) using\n",
    "LogisticRegression(penalty='l2'). Print model accuracy and coefficients"
   ]
  },
  {
   "cell_type": "code",
   "execution_count": 3,
   "id": "0d80deb5",
   "metadata": {},
   "outputs": [
    {
     "name": "stdout",
     "output_type": "stream",
     "text": [
      "L2 Regularization (Ridge) Model Accuracy: 1.00\n",
      "Model Coefficients (L2): [[-0.39711672  0.96047917 -2.37401339 -1.00307139]\n",
      " [ 0.512806   -0.2534469  -0.21530044 -0.76913987]\n",
      " [-0.11568927 -0.70703227  2.58931384  1.77221126]]\n"
     ]
    }
   ],
   "source": [
    "import pandas as pd\n",
    "from sklearn.model_selection import train_test_split\n",
    "from sklearn.linear_model import LogisticRegression\n",
    "from sklearn.metrics import accuracy_score\n",
    "\n",
    "# Load the dataset (using the Iris dataset as an example)\n",
    "url = \"https://raw.githubusercontent.com/mwaskom/seaborn-data/master/iris.csv\"\n",
    "data = pd.read_csv(url)\n",
    "\n",
    "# Prepare the features and target\n",
    "X = data.drop('species', axis=1)\n",
    "y = data['species']\n",
    "\n",
    "# Split the data into training and testing sets\n",
    "X_train, X_test, y_train, y_test = train_test_split(X, y, test_size=0.2, random_state=42)\n",
    "\n",
    "# Create and train the Logistic Regression model with L2 regularization (Ridge)\n",
    "model_l2 = LogisticRegression(penalty='l2', solver='lbfgs', max_iter=1000)\n",
    "model_l2.fit(X_train, y_train)\n",
    "\n",
    "# Make predictions\n",
    "y_pred = model_l2.predict(X_test)\n",
    "\n",
    "# Calculate and print the accuracy\n",
    "accuracy = accuracy_score(y_test, y_pred)\n",
    "print(f\"L2 Regularization (Ridge) Model Accuracy: {accuracy:.2f}\")\n",
    "\n",
    "# Print model coefficients\n",
    "print(\"Model Coefficients (L2):\", model_l2.coef_)\n"
   ]
  },
  {
   "cell_type": "markdown",
   "id": "cfb9d346",
   "metadata": {},
   "source": [
    "Q4 Write a Python program to train Logistic Regression with Elastic Net Regularization (penalty='elasticnet')"
   ]
  },
  {
   "cell_type": "code",
   "execution_count": 4,
   "id": "09787297",
   "metadata": {},
   "outputs": [
    {
     "name": "stdout",
     "output_type": "stream",
     "text": [
      "Elastic Net Regularization Model Accuracy: 1.00\n",
      "Model Coefficients (Elastic Net): [[-0.82242297  1.17448347 -1.96515363 -1.70868724]\n",
      " [ 0.08001698  0.          0.         -0.37235085]\n",
      " [ 0.         -0.65343113  2.742003    3.0691511 ]]\n"
     ]
    }
   ],
   "source": [
    "import pandas as pd\n",
    "from sklearn.model_selection import train_test_split\n",
    "from sklearn.linear_model import LogisticRegression\n",
    "from sklearn.metrics import accuracy_score\n",
    "from sklearn.preprocessing import StandardScaler\n",
    "\n",
    "# Load the dataset (using the Iris dataset as an example)\n",
    "url = \"https://raw.githubusercontent.com/mwaskom/seaborn-data/master/iris.csv\"\n",
    "data = pd.read_csv(url)\n",
    "\n",
    "# Prepare the features and target\n",
    "X = data.drop('species', axis=1)\n",
    "y = data['species']\n",
    "\n",
    "# Standardize the features\n",
    "scaler = StandardScaler()\n",
    "X_scaled = scaler.fit_transform(X)\n",
    "\n",
    "# Split the data into training and testing sets\n",
    "X_train, X_test, y_train, y_test = train_test_split(X_scaled, y, test_size=0.2, random_state=42)\n",
    "\n",
    "# Create and train the Logistic Regression model with Elastic Net regularization\n",
    "model_en = LogisticRegression(penalty='elasticnet', solver='saga', l1_ratio=0.5, max_iter=5000, tol=1e-4)\n",
    "model_en.fit(X_train, y_train)\n",
    "\n",
    "# Make predictions\n",
    "y_pred = model_en.predict(X_test)\n",
    "\n",
    "# Calculate and print the accuracy\n",
    "accuracy = accuracy_score(y_test, y_pred)\n",
    "print(f\"Elastic Net Regularization Model Accuracy: {accuracy:.2f}\")\n",
    "\n",
    "# Print model coefficients\n",
    "print(\"Model Coefficients (Elastic Net):\", model_en.coef_)\n"
   ]
  },
  {
   "cell_type": "markdown",
   "id": "958ae7ea",
   "metadata": {},
   "source": [
    "Q5 Write a Python program to train a Logistic Regression model for multiclass classification using\n",
    "multi_class='ovr'"
   ]
  },
  {
   "cell_type": "code",
   "execution_count": 58,
   "id": "0e45455c",
   "metadata": {},
   "outputs": [
    {
     "name": "stdout",
     "output_type": "stream",
     "text": [
      "Logistic Regression (OvR) Model Accuracy: 0.97\n",
      "\n",
      "Classification Report:\n",
      "               precision    recall  f1-score   support\n",
      "\n",
      "      setosa       1.00      1.00      1.00        10\n",
      "  versicolor       1.00      0.89      0.94         9\n",
      "   virginica       0.92      1.00      0.96        11\n",
      "\n",
      "    accuracy                           0.97        30\n",
      "   macro avg       0.97      0.96      0.97        30\n",
      "weighted avg       0.97      0.97      0.97        30\n",
      "\n",
      "Class 'setosa' Coefficients: [-1.01819667  1.17271004 -1.67459763 -1.53637788]\n",
      "Class 'versicolor' Coefficients: [ 0.25916321 -1.25562864  0.54693691 -0.74233163]\n",
      "Class 'virginica' Coefficients: [ 0.18016043 -0.63987254  2.3351636   2.86168666]\n"
     ]
    }
   ],
   "source": [
    "import pandas as pd\n",
    "from sklearn.model_selection import train_test_split\n",
    "from sklearn.linear_model import LogisticRegression\n",
    "from sklearn.metrics import accuracy_score, classification_report\n",
    "from sklearn.preprocessing import StandardScaler\n",
    "\n",
    "# Load the Iris dataset\n",
    "url = \"https://raw.githubusercontent.com/mwaskom/seaborn-data/master/iris.csv\"\n",
    "data = pd.read_csv(url)\n",
    "\n",
    "# Prepare features and target\n",
    "X = data.drop('species', axis=1)\n",
    "y = data['species']\n",
    "\n",
    "# Standardize the features for better model performance\n",
    "scaler = StandardScaler()\n",
    "X_scaled = scaler.fit_transform(X)\n",
    "\n",
    "# Split the data into training and testing sets\n",
    "X_train, X_test, y_train, y_test = train_test_split(X_scaled, y, test_size=0.2, random_state=42)\n",
    "\n",
    "# Create and train the Logistic Regression model with multi_class='ovr'\n",
    "model = LogisticRegression(multi_class='ovr', solver='lbfgs', max_iter=1000)\n",
    "model.fit(X_train, y_train)\n",
    "\n",
    "# Make predictions\n",
    "y_pred = model.predict(X_test)\n",
    "\n",
    "# Calculate and print accuracy\n",
    "accuracy = accuracy_score(y_test, y_pred)\n",
    "print(f\"Logistic Regression (OvR) Model Accuracy: {accuracy:.2f}\")\n",
    "\n",
    "# Print classification report for more detailed metrics\n",
    "print(\"\\nClassification Report:\\n\", classification_report(y_test, y_pred))\n",
    "\n",
    "# Print model coefficients for each class\n",
    "for i, class_label in enumerate(model.classes_):\n",
    "    print(f\"Class '{class_label}' Coefficients:\", model.coef_[i])\n"
   ]
  },
  {
   "cell_type": "markdown",
   "id": "57fee74c",
   "metadata": {},
   "source": [
    "Q6 Write a Python program to apply GridSearchCV to tune the hyperparameters (C and penalty) of Logistic\n",
    "Regression. Print the best parameters and accuracy"
   ]
  },
  {
   "cell_type": "code",
   "execution_count": 50,
   "id": "50f4a0b6",
   "metadata": {},
   "outputs": [
    {
     "name": "stdout",
     "output_type": "stream",
     "text": [
      "Fitting 5 folds for each of 8 candidates, totalling 40 fits\n",
      "[CV] END .................................C=0.01, penalty=l1; total time=   0.0s\n",
      "[CV] END .................................C=0.01, penalty=l1; total time=   0.0s\n",
      "[CV] END .................................C=0.01, penalty=l1; total time=   0.0s\n",
      "[CV] END .................................C=0.01, penalty=l1; total time=   0.0s\n",
      "[CV] END .................................C=0.01, penalty=l1; total time=   0.0s\n",
      "[CV] END .................................C=0.01, penalty=l2; total time=   0.0s\n",
      "[CV] END .................................C=0.01, penalty=l2; total time=   0.0s\n",
      "[CV] END .................................C=0.01, penalty=l2; total time=   0.0s\n",
      "[CV] END .................................C=0.01, penalty=l2; total time=   0.0s\n",
      "[CV] END .................................C=0.01, penalty=l2; total time=   0.0s\n",
      "[CV] END ..................................C=0.1, penalty=l1; total time=   0.0s\n",
      "[CV] END ..................................C=0.1, penalty=l1; total time=   0.0s\n",
      "[CV] END ..................................C=0.1, penalty=l1; total time=   0.0s\n",
      "[CV] END ..................................C=0.1, penalty=l1; total time=   0.0s\n",
      "[CV] END ..................................C=0.1, penalty=l1; total time=   0.0s\n",
      "[CV] END ..................................C=0.1, penalty=l2; total time=   0.0s\n",
      "[CV] END ..................................C=0.1, penalty=l2; total time=   0.0s\n",
      "[CV] END ..................................C=0.1, penalty=l2; total time=   0.0s\n",
      "[CV] END ..................................C=0.1, penalty=l2; total time=   0.0s\n",
      "[CV] END ..................................C=0.1, penalty=l2; total time=   0.0s\n",
      "[CV] END ....................................C=1, penalty=l1; total time=   0.0s\n",
      "[CV] END ....................................C=1, penalty=l1; total time=   0.0s\n",
      "[CV] END ....................................C=1, penalty=l1; total time=   0.0s\n",
      "[CV] END ....................................C=1, penalty=l1; total time=   0.0s\n",
      "[CV] END ....................................C=1, penalty=l1; total time=   0.0s\n",
      "[CV] END ....................................C=1, penalty=l2; total time=   0.0s\n",
      "[CV] END ....................................C=1, penalty=l2; total time=   0.0s\n",
      "[CV] END ....................................C=1, penalty=l2; total time=   0.0s\n",
      "[CV] END ....................................C=1, penalty=l2; total time=   0.0s\n",
      "[CV] END ....................................C=1, penalty=l2; total time=   0.0s\n",
      "[CV] END ...................................C=10, penalty=l1; total time=   0.0s\n",
      "[CV] END ...................................C=10, penalty=l1; total time=   0.0s\n",
      "[CV] END ...................................C=10, penalty=l1; total time=   0.0s\n",
      "[CV] END ...................................C=10, penalty=l1; total time=   0.0s\n",
      "[CV] END ...................................C=10, penalty=l1; total time=   0.0s\n",
      "[CV] END ...................................C=10, penalty=l2; total time=   0.0s\n",
      "[CV] END ...................................C=10, penalty=l2; total time=   0.0s\n",
      "[CV] END ...................................C=10, penalty=l2; total time=   0.0s\n",
      "[CV] END ...................................C=10, penalty=l2; total time=   0.0s\n",
      "[CV] END ...................................C=10, penalty=l2; total time=   0.0s\n",
      "\n",
      "Best Parameters: {'C': 1, 'penalty': 'l2'}\n",
      "Test Set Accuracy: 1.00\n"
     ]
    }
   ],
   "source": [
    "import pandas as pd\n",
    "from sklearn.model_selection import train_test_split, GridSearchCV\n",
    "from sklearn.preprocessing import StandardScaler\n",
    "from sklearn.linear_model import LogisticRegression\n",
    "from sklearn.metrics import accuracy_score\n",
    "\n",
    "# Load dataset (Iris dataset for this example)\n",
    "url = \"https://raw.githubusercontent.com/mwaskom/seaborn-data/master/iris.csv\"\n",
    "data = pd.read_csv(url)\n",
    "\n",
    "# Prepare features and target variable\n",
    "X = data.drop('species', axis=1)\n",
    "y = data['species']\n",
    "\n",
    "# Standardize features\n",
    "scaler = StandardScaler()\n",
    "X_scaled = scaler.fit_transform(X)\n",
    "\n",
    "# Split data into training and testing sets\n",
    "X_train, X_test, y_train, y_test = train_test_split(X_scaled, y, test_size=0.2, random_state=42)\n",
    "\n",
    "# Define the Logistic Regression model\n",
    "model = LogisticRegression(solver='saga', max_iter=1000)  # 'saga' supports L1 and L2\n",
    "\n",
    "# Define hyperparameter grid\n",
    "param_grid = {\n",
    "    'C': [0.01, 0.1, 1, 10],  # Regularization strength\n",
    "    'penalty': ['l1', 'l2']   # Lasso (L1) and Ridge (L2)\n",
    "}\n",
    "\n",
    "# Apply GridSearchCV for hyperparameter tuning\n",
    "grid_search = GridSearchCV(model, param_grid, cv=5, scoring='accuracy', verbose=2)\n",
    "grid_search.fit(X_train, y_train)\n",
    "\n",
    "# Get best parameters and model\n",
    "best_params = grid_search.best_params_\n",
    "best_model = grid_search.best_estimator_\n",
    "\n",
    "# Make predictions on test data\n",
    "y_pred = best_model.predict(X_test)\n",
    "\n",
    "# Compute accuracy\n",
    "accuracy = accuracy_score(y_test, y_pred)\n",
    "\n",
    "# Print results\n",
    "print(\"\\nBest Parameters:\", best_params)\n",
    "print(f\"Test Set Accuracy: {accuracy:.2f}\")\n",
    "\n"
   ]
  },
  {
   "cell_type": "markdown",
   "id": "1d524a27",
   "metadata": {},
   "source": [
    "Q7 Write a Python program to evaluate Logistic Regression using Stratified K-Fold Cross-Validation. Print the\n",
    "average accuracy"
   ]
  },
  {
   "cell_type": "code",
   "execution_count": 11,
   "id": "2c348dbf",
   "metadata": {},
   "outputs": [
    {
     "name": "stdout",
     "output_type": "stream",
     "text": [
      "Cross-Validation Accuracies: [1.         0.96666667 0.9        1.         0.9       ]\n",
      "Average Accuracy: 0.9533\n"
     ]
    }
   ],
   "source": [
    "import pandas as pd\n",
    "import numpy as np\n",
    "from sklearn.model_selection import StratifiedKFold, cross_val_score\n",
    "from sklearn.preprocessing import StandardScaler\n",
    "from sklearn.linear_model import LogisticRegression\n",
    "\n",
    "# Load dataset (Iris dataset for this example)\n",
    "url = \"https://raw.githubusercontent.com/mwaskom/seaborn-data/master/iris.csv\"\n",
    "data = pd.read_csv(url)\n",
    "\n",
    "# Prepare features and target variable\n",
    "X = data.drop('species', axis=1)\n",
    "y = data['species']\n",
    "\n",
    "# Standardize features\n",
    "scaler = StandardScaler()\n",
    "X_scaled = scaler.fit_transform(X)\n",
    "\n",
    "# Define the Logistic Regression model\n",
    "model = LogisticRegression(solver='saga', max_iter=1000)  # 'saga' supports multiple regularizations\n",
    "\n",
    "# Define Stratified K-Fold Cross-Validation\n",
    "skf = StratifiedKFold(n_splits=5, shuffle=True, random_state=42)\n",
    "\n",
    "# Perform cross-validation and compute accuracy for each fold\n",
    "scores = cross_val_score(model, X_scaled, y, cv=skf, scoring='accuracy')\n",
    "\n",
    "# Print results\n",
    "print(f\"Cross-Validation Accuracies: {scores}\")\n",
    "print(f\"Average Accuracy: {np.mean(scores):.4f}\")\n"
   ]
  },
  {
   "cell_type": "markdown",
   "id": "014d6cf6",
   "metadata": {},
   "source": [
    "Q8 Write a Python program to load a dataset from a CSV file, apply Logistic Regression, and evaluate its\n",
    "accuracy "
   ]
  },
  {
   "cell_type": "code",
   "execution_count": 14,
   "id": "4934781d",
   "metadata": {},
   "outputs": [
    {
     "name": "stdout",
     "output_type": "stream",
     "text": [
      "First 5 rows of the dataset:\n",
      "   sepal_length  sepal_width  petal_length  petal_width species\n",
      "0           5.1          3.5           1.4          0.2  setosa\n",
      "1           4.9          3.0           1.4          0.2  setosa\n",
      "2           4.7          3.2           1.3          0.2  setosa\n",
      "3           4.6          3.1           1.5          0.2  setosa\n",
      "4           5.0          3.6           1.4          0.2  setosa \n",
      "\n",
      "Model Accuracy: 0.90\n",
      "\n",
      "Classification Report:\n",
      "              precision    recall  f1-score   support\n",
      "\n",
      "      setosa       1.00      1.00      1.00        10\n",
      "  versicolor       0.89      0.80      0.84        10\n",
      "   virginica       0.82      0.90      0.86        10\n",
      "\n",
      "    accuracy                           0.90        30\n",
      "   macro avg       0.90      0.90      0.90        30\n",
      "weighted avg       0.90      0.90      0.90        30\n",
      "\n"
     ]
    }
   ],
   "source": [
    "import pandas as pd\n",
    "from sklearn.model_selection import train_test_split\n",
    "from sklearn.preprocessing import StandardScaler\n",
    "from sklearn.linear_model import LogisticRegression\n",
    "from sklearn.metrics import accuracy_score, classification_report\n",
    "\n",
    "# Load dataset from a CSV file (Iris dataset)\n",
    "url = \"https://raw.githubusercontent.com/mwaskom/seaborn-data/master/iris.csv\"\n",
    "data = pd.read_csv(url)\n",
    "\n",
    "# Display first 5 rows\n",
    "print(\"First 5 rows of the dataset:\")\n",
    "print(data.head(), \"\\n\")\n",
    "\n",
    "# Separate features (X) and target variable (y)\n",
    "X = data.drop(columns=['species'])  # Features\n",
    "y = data['species']  # Target variable (species)\n",
    "\n",
    "# Split dataset into training (80%) and testing (20%) sets\n",
    "X_train, X_test, y_train, y_test = train_test_split(X, y, test_size=0.2, stratify=y, random_state=42)\n",
    "\n",
    "# Standardize features for better performance\n",
    "scaler = StandardScaler()\n",
    "X_train_scaled = scaler.fit_transform(X_train)\n",
    "X_test_scaled = scaler.transform(X_test)\n",
    "\n",
    "# Train the Logistic Regression model\n",
    "model = LogisticRegression(max_iter=1000, multi_class='ovr', solver='lbfgs', random_state=42)\n",
    "model.fit(X_train_scaled, y_train)\n",
    "\n",
    "# Make predictions\n",
    "y_pred = model.predict(X_test_scaled)\n",
    "\n",
    "# Evaluate the model\n",
    "accuracy = accuracy_score(y_test, y_pred)\n",
    "print(f\"Model Accuracy: {accuracy:.2f}\")\n",
    "\n",
    "# Print Classification Report\n",
    "print(\"\\nClassification Report:\")\n",
    "print(classification_report(y_test, y_pred))\n"
   ]
  },
  {
   "cell_type": "markdown",
   "id": "88198197",
   "metadata": {},
   "source": [
    "Q 9 Write a Python program to apply RandomizedSearchCV for tuning hyperparameters (C, penalty, solver) in\n",
    "Logistic Regression. Print the best parameters and accuracy"
   ]
  },
  {
   "cell_type": "code",
   "execution_count": 25,
   "id": "e169baf1",
   "metadata": {},
   "outputs": [
    {
     "name": "stdout",
     "output_type": "stream",
     "text": [
      "Best Parameters: {'solver': 'saga', 'penalty': 'l1', 'C': 0.005994842503189409}\n",
      "Model Accuracy: 0.83\n"
     ]
    }
   ],
   "source": [
    "import numpy as np\n",
    "import pandas as pd\n",
    "from sklearn.model_selection import train_test_split, RandomizedSearchCV\n",
    "from sklearn.linear_model import LogisticRegression\n",
    "from sklearn.metrics import accuracy_score\n",
    "from sklearn.datasets import make_classification\n",
    "\n",
    "# Generate a synthetic dataset\n",
    "X, y = make_classification(n_samples=1000, n_features=10, n_classes=2, random_state=42)\n",
    "\n",
    "# Split dataset into training and testing sets\n",
    "X_train, X_test, y_train, y_test = train_test_split(X, y, test_size=0.2, random_state=42)\n",
    "\n",
    "# Define hyperparameter grid\n",
    "param_grid = {\n",
    "    'C': np.logspace(-4, 4, 10),  # Regularization strength\n",
    "    'penalty': ['l1', 'l2', 'elasticnet'],  # Regularization types\n",
    "    'solver': ['liblinear', 'saga']  # Solvers that support L1 and ElasticNet\n",
    "}\n",
    "\n",
    "# Create Logistic Regression model\n",
    "log_reg = LogisticRegression(max_iter=1000)\n",
    "\n",
    "# Apply RandomizedSearchCV\n",
    "random_search = RandomizedSearchCV(log_reg, param_distributions=param_grid, \n",
    "                                   n_iter=10, scoring='accuracy', cv=5, random_state=42, n_jobs=-1)\n",
    "random_search.fit(X_train, y_train)\n",
    "\n",
    "# Get best parameters and accuracy\n",
    "best_params = random_search.best_params_\n",
    "best_model = random_search.best_estimator_\n",
    "y_pred = best_model.predict(X_test)\n",
    "accuracy = accuracy_score(y_test, y_pred)\n",
    "\n",
    "# Print results\n",
    "print(\"Best Parameters:\", best_params)\n",
    "print(f\"Model Accuracy: {accuracy:.2f}\")\n"
   ]
  },
  {
   "cell_type": "markdown",
   "id": "2923ee35",
   "metadata": {},
   "source": [
    "Q10 Write a Python program to implement One-vs-One (OvO) Multiclass Logistic Regression and print accuracy"
   ]
  },
  {
   "cell_type": "code",
   "execution_count": 27,
   "id": "0f0eec40",
   "metadata": {},
   "outputs": [
    {
     "name": "stdout",
     "output_type": "stream",
     "text": [
      "Model Accuracy: 0.97\n"
     ]
    }
   ],
   "source": [
    "import pandas as pd\n",
    "from sklearn.model_selection import train_test_split\n",
    "from sklearn.linear_model import LogisticRegression\n",
    "from sklearn.multiclass import OneVsOneClassifier\n",
    "from sklearn.metrics import accuracy_score\n",
    "from sklearn.datasets import load_iris\n",
    "\n",
    "# Load the Iris dataset\n",
    "iris = load_iris()\n",
    "X, y = iris.data, iris.target\n",
    "\n",
    "# Split dataset into training and testing sets\n",
    "X_train, X_test, y_train, y_test = train_test_split(X, y, test_size=0.2, random_state=42, stratify=y)\n",
    "\n",
    "# Create an OvO Logistic Regression model\n",
    "model = OneVsOneClassifier(LogisticRegression(max_iter=1000))\n",
    "\n",
    "# Train the model\n",
    "model.fit(X_train, y_train)\n",
    "\n",
    "# Make predictions\n",
    "y_pred = model.predict(X_test)\n",
    "\n",
    "# Calculate accuracy\n",
    "accuracy = accuracy_score(y_test, y_pred)\n",
    "\n",
    "# Print results\n",
    "print(f\"Model Accuracy: {accuracy:.2f}\")\n"
   ]
  },
  {
   "cell_type": "markdown",
   "id": "a78d4072",
   "metadata": {},
   "source": [
    "Q11 Write a Python program to train a Logistic Regression model and visualize the confusion matrix for binary\n",
    "classification"
   ]
  },
  {
   "cell_type": "code",
   "execution_count": 29,
   "id": "59872ab2",
   "metadata": {},
   "outputs": [
    {
     "data": {
      "image/png": "[encoded data removed]",
      "text/plain": [
       "<Figure size 600x400 with 2 Axes>"
      ]
     },
     "metadata": {},
     "output_type": "display_data"
    },
    {
     "name": "stdout",
     "output_type": "stream",
     "text": [
      "Model Accuracy: 0.96\n"
     ]
    }
   ],
   "source": [
    "import pandas as pd\n",
    "import numpy as np\n",
    "import matplotlib.pyplot as plt\n",
    "import seaborn as sns\n",
    "from sklearn.model_selection import train_test_split\n",
    "from sklearn.linear_model import LogisticRegression\n",
    "from sklearn.metrics import confusion_matrix, accuracy_score\n",
    "\n",
    "# Load a sample binary classification dataset (Breast Cancer dataset)\n",
    "from sklearn.datasets import load_breast_cancer\n",
    "data = load_breast_cancer()\n",
    "X, y = data.data, data.target\n",
    "\n",
    "# Split dataset into training and testing sets\n",
    "X_train, X_test, y_train, y_test = train_test_split(X, y, test_size=0.2, random_state=42, stratify=y)\n",
    "\n",
    "# Create a Logistic Regression model\n",
    "model = LogisticRegression(max_iter=1000)\n",
    "\n",
    "# Train the model\n",
    "model.fit(X_train, y_train)\n",
    "\n",
    "# Make predictions\n",
    "y_pred = model.predict(X_test)\n",
    "\n",
    "# Compute confusion matrix\n",
    "cm = confusion_matrix(y_test, y_pred)\n",
    "\n",
    "# Plot the confusion matrix\n",
    "plt.figure(figsize=(6, 4))\n",
    "sns.heatmap(cm, annot=True, fmt='d', cmap='Blues', xticklabels=['Negative', 'Positive'], yticklabels=['Negative', 'Positive'])\n",
    "plt.xlabel('Predicted')\n",
    "plt.ylabel('Actual')\n",
    "plt.title('Confusion Matrix')\n",
    "plt.show()\n",
    "\n",
    "# Print model accuracy\n",
    "accuracy = accuracy_score(y_test, y_pred)\n",
    "print(f\"Model Accuracy: {accuracy:.2f}\")\n"
   ]
  },
  {
   "cell_type": "markdown",
   "id": "82e3cb75",
   "metadata": {},
   "source": [
    "Q12 Write a Python program to train a Logistic Regression model and evaluate its performance using Precision,\n",
    "Recall, and F1-Score\n"
   ]
  },
  {
   "cell_type": "code",
   "execution_count": 31,
   "id": "a9cfac29",
   "metadata": {},
   "outputs": [
    {
     "name": "stdout",
     "output_type": "stream",
     "text": [
      "Model Accuracy: 0.96\n",
      "Precision Score: 0.96\n",
      "Recall Score: 0.97\n",
      "F1 Score: 0.97\n"
     ]
    }
   ],
   "source": [
    "import pandas as pd\n",
    "import numpy as np\n",
    "from sklearn.model_selection import train_test_split\n",
    "from sklearn.linear_model import LogisticRegression\n",
    "from sklearn.metrics import precision_score, recall_score, f1_score, accuracy_score\n",
    "\n",
    "# Load a sample binary classification dataset (Breast Cancer dataset)\n",
    "from sklearn.datasets import load_breast_cancer\n",
    "data = load_breast_cancer()\n",
    "X, y = data.data, data.target\n",
    "\n",
    "# Split dataset into training and testing sets\n",
    "X_train, X_test, y_train, y_test = train_test_split(X, y, test_size=0.2, random_state=42, stratify=y)\n",
    "\n",
    "# Create a Logistic Regression model\n",
    "model = LogisticRegression(max_iter=1000)\n",
    "\n",
    "# Train the model\n",
    "model.fit(X_train, y_train)\n",
    "\n",
    "# Make predictions\n",
    "y_pred = model.predict(X_test)\n",
    "\n",
    "# Calculate evaluation metrics\n",
    "precision = precision_score(y_test, y_pred)\n",
    "recall = recall_score(y_test, y_pred)\n",
    "f1 = f1_score(y_test, y_pred)\n",
    "accuracy = accuracy_score(y_test, y_pred)\n",
    "\n",
    "# Print the results\n",
    "print(f\"Model Accuracy: {accuracy:.2f}\")\n",
    "print(f\"Precision Score: {precision:.2f}\")\n",
    "print(f\"Recall Score: {recall:.2f}\")\n",
    "print(f\"F1 Score: {f1:.2f}\")\n"
   ]
  },
  {
   "cell_type": "markdown",
   "id": "e04c07be",
   "metadata": {},
   "source": [
    "Q13 Write a Python program to train a Logistic Regression model on imbalanced data and apply class weights to\n",
    "improve model performance"
   ]
  },
  {
   "cell_type": "code",
   "execution_count": 33,
   "id": "fde2eb15",
   "metadata": {},
   "outputs": [
    {
     "name": "stdout",
     "output_type": "stream",
     "text": [
      "\n",
      "🔹 Model: Logistic Regression (No Class Weights)\n",
      "Accuracy: 0.92\n",
      "Precision: 0.70\n",
      "Recall: 0.40\n",
      "F1 Score: 0.51\n",
      "\n",
      "🔹 Model: Logistic Regression (With Class Weights)\n",
      "Accuracy: 0.86\n",
      "Precision: 0.42\n",
      "Recall: 0.83\n",
      "F1 Score: 0.56\n"
     ]
    },
    {
     "data": {
      "image/png": "[encoded data removed]",
      "text/plain": [
       "<Figure size 1200x500 with 2 Axes>"
      ]
     },
     "metadata": {},
     "output_type": "display_data"
    }
   ],
   "source": [
    "import numpy as np\n",
    "import pandas as pd\n",
    "from sklearn.model_selection import train_test_split\n",
    "from sklearn.linear_model import LogisticRegression\n",
    "from sklearn.metrics import accuracy_score, precision_score, recall_score, f1_score\n",
    "from sklearn.datasets import make_classification\n",
    "import matplotlib.pyplot as plt\n",
    "import seaborn as sns\n",
    "\n",
    "# Generate an imbalanced dataset\n",
    "X, y = make_classification(n_samples=5000, n_features=10, n_classes=2, \n",
    "                           weights=[0.90, 0.10], random_state=42)\n",
    "\n",
    "# Split dataset into training and testing sets\n",
    "X_train, X_test, y_train, y_test = train_test_split(X, y, test_size=0.2, random_state=42, stratify=y)\n",
    "\n",
    "# Create Logistic Regression model WITHOUT class weighting\n",
    "model_no_weights = LogisticRegression(max_iter=1000)\n",
    "model_no_weights.fit(X_train, y_train)\n",
    "y_pred_no_weights = model_no_weights.predict(X_test)\n",
    "\n",
    "# Create Logistic Regression model WITH class weighting\n",
    "model_with_weights = LogisticRegression(class_weight='balanced', max_iter=1000)\n",
    "model_with_weights.fit(X_train, y_train)\n",
    "y_pred_with_weights = model_with_weights.predict(X_test)\n",
    "\n",
    "# Calculate performance metrics\n",
    "def evaluate_model(y_true, y_pred, model_name):\n",
    "    print(f\"\\n🔹 Model: {model_name}\")\n",
    "    print(f\"Accuracy: {accuracy_score(y_true, y_pred):.2f}\")\n",
    "    print(f\"Precision: {precision_score(y_true, y_pred):.2f}\")\n",
    "    print(f\"Recall: {recall_score(y_true, y_pred):.2f}\")\n",
    "    print(f\"F1 Score: {f1_score(y_true, y_pred):.2f}\")\n",
    "\n",
    "# Evaluate both models\n",
    "evaluate_model(y_test, y_pred_no_weights, \"Logistic Regression (No Class Weights)\")\n",
    "evaluate_model(y_test, y_pred_with_weights, \"Logistic Regression (With Class Weights)\")\n",
    "\n",
    "# Plot class distribution before & after class weighting\n",
    "fig, ax = plt.subplots(1, 2, figsize=(12, 5))\n",
    "\n",
    "sns.countplot(x=y, ax=ax[0])\n",
    "ax[0].set_title(\"Original Class Distribution\")\n",
    "\n",
    "sns.countplot(x=model_with_weights.predict(X_train), ax=ax[1])\n",
    "ax[1].set_title(\"Predicted Class Distribution (With Class Weights)\")\n",
    "\n",
    "plt.show()\n"
   ]
  },
  {
   "cell_type": "markdown",
   "id": "91631ba5",
   "metadata": {},
   "source": [
    "Q14 Write a Python program to train Logistic Regression on the Titanic dataset, handle missing values, and\n",
    "evaluate performance"
   ]
  },
  {
   "cell_type": "code",
   "execution_count": 36,
   "id": "25a84d4a",
   "metadata": {},
   "outputs": [
    {
     "name": "stdout",
     "output_type": "stream",
     "text": [
      "🔹 Model Performance on Titanic Dataset:\n",
      "✅ Accuracy: 0.80\n",
      "✅ Precision: 0.78\n",
      "✅ Recall: 0.67\n",
      "✅ F1 Score: 0.72\n"
     ]
    }
   ],
   "source": [
    "import pandas as pd\n",
    "import numpy as np\n",
    "from sklearn.model_selection import train_test_split\n",
    "from sklearn.linear_model import LogisticRegression\n",
    "from sklearn.metrics import accuracy_score, precision_score, recall_score, f1_score\n",
    "from sklearn.impute import SimpleImputer\n",
    "from sklearn.preprocessing import StandardScaler, LabelEncoder\n",
    "\n",
    "# Load the Titanic dataset\n",
    "url = \"https://raw.githubusercontent.com/datasciencedojo/datasets/master/titanic.csv\"\n",
    "df = pd.read_csv(url)\n",
    "\n",
    "# Select relevant features\n",
    "features = ['Pclass', 'Sex', 'Age', 'SibSp', 'Parch', 'Fare', 'Embarked']\n",
    "target = 'Survived'\n",
    "\n",
    "# Drop rows with missing target values\n",
    "df = df.dropna(subset=[target])\n",
    "\n",
    "# Handle missing values in 'Age' and 'Fare' using mean imputation\n",
    "imputer = SimpleImputer(strategy='mean')\n",
    "df[['Age', 'Fare']] = imputer.fit_transform(df[['Age', 'Fare']])\n",
    "\n",
    "# Handle missing values in 'Embarked' using most frequent imputation\n",
    "df['Embarked'].fillna(df['Embarked'].mode()[0], inplace=True)\n",
    "\n",
    "# Convert categorical features ('Sex' and 'Embarked') into numerical format\n",
    "df['Sex'] = LabelEncoder().fit_transform(df['Sex'])\n",
    "df['Embarked'] = LabelEncoder().fit_transform(df['Embarked'])\n",
    "\n",
    "# Define features and target variable\n",
    "X = df[features]\n",
    "y = df[target]\n",
    "\n",
    "# Split data into training and testing sets (80% train, 20% test)\n",
    "X_train, X_test, y_train, y_test = train_test_split(X, y, test_size=0.2, random_state=42, stratify=y)\n",
    "\n",
    "# Standardize the features for better performance\n",
    "scaler = StandardScaler()\n",
    "X_train = scaler.fit_transform(X_train)\n",
    "X_test = scaler.transform(X_test)\n",
    "\n",
    "# Train Logistic Regression model\n",
    "model = LogisticRegression(max_iter=1000)\n",
    "model.fit(X_train, y_train)\n",
    "\n",
    "# Make predictions\n",
    "y_pred = model.predict(X_test)\n",
    "\n",
    "# Evaluate performance\n",
    "accuracy = accuracy_score(y_test, y_pred)\n",
    "precision = precision_score(y_test, y_pred)\n",
    "recall = recall_score(y_test, y_pred)\n",
    "f1 = f1_score(y_test, y_pred)\n",
    "\n",
    "# Print evaluation metrics\n",
    "print(f\"🔹 Model Performance on Titanic Dataset:\")\n",
    "print(f\"✅ Accuracy: {accuracy:.2f}\")\n",
    "print(f\"✅ Precision: {precision:.2f}\")\n",
    "print(f\"✅ Recall: {recall:.2f}\")\n",
    "print(f\"✅ F1 Score: {f1:.2f}\")\n"
   ]
  },
  {
   "cell_type": "markdown",
   "id": "5c50d2e5",
   "metadata": {},
   "source": [
    "Q15 Write a Python program to apply feature scaling (Standardization) before training a Logistic Regression\n",
    "model. Evaluate its accuracy and compare results with and without scaling"
   ]
  },
  {
   "cell_type": "code",
   "execution_count": 37,
   "id": "276ea286",
   "metadata": {},
   "outputs": [
    {
     "name": "stdout",
     "output_type": "stream",
     "text": [
      "🔹 Model Accuracy Comparison:\n",
      "✅ Without Feature Scaling: 0.80\n",
      "✅ With Feature Scaling: 0.80\n"
     ]
    }
   ],
   "source": [
    "import pandas as pd\n",
    "import numpy as np\n",
    "from sklearn.model_selection import train_test_split\n",
    "from sklearn.linear_model import LogisticRegression\n",
    "from sklearn.preprocessing import StandardScaler, LabelEncoder\n",
    "from sklearn.impute import SimpleImputer\n",
    "from sklearn.metrics import accuracy_score\n",
    "\n",
    "# Load the Titanic dataset\n",
    "url = \"https://raw.githubusercontent.com/datasciencedojo/datasets/master/titanic.csv\"\n",
    "df = pd.read_csv(url)\n",
    "\n",
    "# Select relevant features\n",
    "features = ['Pclass', 'Sex', 'Age', 'SibSp', 'Parch', 'Fare', 'Embarked']\n",
    "target = 'Survived'\n",
    "\n",
    "# Drop rows with missing target values\n",
    "df = df.dropna(subset=[target])\n",
    "\n",
    "# Handle missing values\n",
    "imputer = SimpleImputer(strategy='mean')\n",
    "df[['Age', 'Fare']] = imputer.fit_transform(df[['Age', 'Fare']])\n",
    "df['Embarked'].fillna(df['Embarked'].mode()[0], inplace=True)\n",
    "\n",
    "# Encode categorical variables\n",
    "df['Sex'] = LabelEncoder().fit_transform(df['Sex'])\n",
    "df['Embarked'] = LabelEncoder().fit_transform(df['Embarked'])\n",
    "\n",
    "# Define features and target variable\n",
    "X = df[features]\n",
    "y = df[target]\n",
    "\n",
    "# Split data into training and testing sets (80% train, 20% test)\n",
    "X_train, X_test, y_train, y_test = train_test_split(X, y, test_size=0.2, random_state=42, stratify=y)\n",
    "\n",
    "### **Train Logistic Regression WITHOUT scaling**\n",
    "model_no_scaling = LogisticRegression(max_iter=1000)\n",
    "model_no_scaling.fit(X_train, y_train)\n",
    "y_pred_no_scaling = model_no_scaling.predict(X_test)\n",
    "accuracy_no_scaling = accuracy_score(y_test, y_pred_no_scaling)\n",
    "\n",
    "### **Apply Feature Scaling (Standardization)**\n",
    "scaler = StandardScaler()\n",
    "X_train_scaled = scaler.fit_transform(X_train)\n",
    "X_test_scaled = scaler.transform(X_test)\n",
    "\n",
    "### **Train Logistic Regression WITH scaling**\n",
    "model_with_scaling = LogisticRegression(max_iter=1000)\n",
    "model_with_scaling.fit(X_train_scaled, y_train)\n",
    "y_pred_with_scaling = model_with_scaling.predict(X_test_scaled)\n",
    "accuracy_with_scaling = accuracy_score(y_test, y_pred_with_scaling)\n",
    "\n",
    "# Print accuracy comparison\n",
    "print(\"🔹 Model Accuracy Comparison:\")\n",
    "print(f\"✅ Without Feature Scaling: {accuracy_no_scaling:.2f}\")\n",
    "print(f\"✅ With Feature Scaling: {accuracy_with_scaling:.2f}\")\n"
   ]
  },
  {
   "cell_type": "markdown",
   "id": "c5668515",
   "metadata": {},
   "source": [
    "Q16 Write a Python program to train Logistic Regression and evaluate its performance using ROC-AUC score"
   ]
  },
  {
   "cell_type": "code",
   "execution_count": 38,
   "id": "01d8b1fd",
   "metadata": {},
   "outputs": [
    {
     "name": "stdout",
     "output_type": "stream",
     "text": [
      "🔹 ROC-AUC Score: 0.85\n"
     ]
    },
    {
     "data": {
      "image/png": "[encoded data removed]",
      "text/plain": [
       "<Figure size 800x600 with 1 Axes>"
      ]
     },
     "metadata": {},
     "output_type": "display_data"
    }
   ],
   "source": [
    "import pandas as pd\n",
    "import numpy as np\n",
    "import matplotlib.pyplot as plt\n",
    "from sklearn.model_selection import train_test_split\n",
    "from sklearn.linear_model import LogisticRegression\n",
    "from sklearn.preprocessing import StandardScaler, LabelEncoder\n",
    "from sklearn.impute import SimpleImputer\n",
    "from sklearn.metrics import roc_auc_score, roc_curve\n",
    "\n",
    "# Load the Titanic dataset\n",
    "url = \"https://raw.githubusercontent.com/datasciencedojo/datasets/master/titanic.csv\"\n",
    "df = pd.read_csv(url)\n",
    "\n",
    "# Select relevant features\n",
    "features = ['Pclass', 'Sex', 'Age', 'SibSp', 'Parch', 'Fare', 'Embarked']\n",
    "target = 'Survived'\n",
    "\n",
    "# Drop rows with missing target values\n",
    "df = df.dropna(subset=[target])\n",
    "\n",
    "# Handle missing values\n",
    "imputer = SimpleImputer(strategy='mean')\n",
    "df[['Age', 'Fare']] = imputer.fit_transform(df[['Age', 'Fare']])\n",
    "df['Embarked'].fillna(df['Embarked'].mode()[0], inplace=True)\n",
    "\n",
    "# Encode categorical variables\n",
    "df['Sex'] = LabelEncoder().fit_transform(df['Sex'])\n",
    "df['Embarked'] = LabelEncoder().fit_transform(df['Embarked'])\n",
    "\n",
    "# Define features and target variable\n",
    "X = df[features]\n",
    "y = df[target]\n",
    "\n",
    "# Split data into training and testing sets (80% train, 20% test)\n",
    "X_train, X_test, y_train, y_test = train_test_split(X, y, test_size=0.2, random_state=42, stratify=y)\n",
    "\n",
    "# Apply Feature Scaling (Standardization)\n",
    "scaler = StandardScaler()\n",
    "X_train_scaled = scaler.fit_transform(X_train)\n",
    "X_test_scaled = scaler.transform(X_test)\n",
    "\n",
    "# Train Logistic Regression Model\n",
    "model = LogisticRegression(max_iter=1000)\n",
    "model.fit(X_train_scaled, y_train)\n",
    "\n",
    "# Predict probabilities for the test set\n",
    "y_probs = model.predict_proba(X_test_scaled)[:, 1]  # Get probabilities for class 1\n",
    "\n",
    "# Compute ROC-AUC Score\n",
    "roc_auc = roc_auc_score(y_test, y_probs)\n",
    "print(f\"🔹 ROC-AUC Score: {roc_auc:.2f}\")\n",
    "\n",
    "# Compute ROC Curve\n",
    "fpr, tpr, _ = roc_curve(y_test, y_probs)\n",
    "\n",
    "# Plot ROC Curve\n",
    "plt.figure(figsize=(8, 6))\n",
    "plt.plot(fpr, tpr, color='blue', label=f'ROC Curve (AUC = {roc_auc:.2f})')\n",
    "plt.plot([0, 1], [0, 1], linestyle='--', color='gray')  # Diagonal line\n",
    "plt.xlabel(\"False Positive Rate\")\n",
    "plt.ylabel(\"True Positive Rate\")\n",
    "plt.title(\"ROC Curve for Logistic Regression\")\n",
    "plt.legend()\n",
    "plt.grid()\n",
    "plt.show()\n"
   ]
  },
  {
   "cell_type": "markdown",
   "id": "6e923ec2",
   "metadata": {},
   "source": [
    "Q17 Write a Python program to train Logistic Regression using a custom learning rate (C=0.5) and evaluate\n",
    "accuracy"
   ]
  },
  {
   "cell_type": "code",
   "execution_count": 39,
   "id": "55c1884e",
   "metadata": {},
   "outputs": [
    {
     "name": "stdout",
     "output_type": "stream",
     "text": [
      "🔹 Model Accuracy with C=0.5: 0.97\n"
     ]
    }
   ],
   "source": [
    "import pandas as pd\n",
    "from sklearn.model_selection import train_test_split\n",
    "from sklearn.linear_model import LogisticRegression\n",
    "from sklearn.metrics import accuracy_score\n",
    "\n",
    "# Load the Iris dataset\n",
    "url = \"https://raw.githubusercontent.com/mwaskom/seaborn-data/master/iris.csv\"\n",
    "df = pd.read_csv(url)\n",
    "\n",
    "# Prepare the features and target\n",
    "X = df.drop(columns=['species'])  # Features\n",
    "y = df['species']  # Target variable\n",
    "\n",
    "# Split the data into training (80%) and testing (20%) sets\n",
    "X_train, X_test, y_train, y_test = train_test_split(X, y, test_size=0.2, random_state=42, stratify=y)\n",
    "\n",
    "# Train Logistic Regression with custom learning rate (C=0.5)\n",
    "model = LogisticRegression(C=0.5, max_iter=1000)\n",
    "model.fit(X_train, y_train)\n",
    "\n",
    "# Make predictions\n",
    "y_pred = model.predict(X_test)\n",
    "\n",
    "# Evaluate accuracy\n",
    "accuracy = accuracy_score(y_test, y_pred)\n",
    "print(f\"🔹 Model Accuracy with C=0.5: {accuracy:.2f}\")\n"
   ]
  },
  {
   "cell_type": "markdown",
   "id": "4bf310c6",
   "metadata": {},
   "source": [
    "Q18 Write a Python program to train Logistic Regression and identify important features based on model\n",
    "coefficients"
   ]
  },
  {
   "cell_type": "code",
   "execution_count": 40,
   "id": "fa25a688",
   "metadata": {},
   "outputs": [
    {
     "name": "stdout",
     "output_type": "stream",
     "text": [
      "🔹 Feature Importance (Model Coefficients):\n",
      "\n",
      "                setosa  versicolor  virginica\n",
      "sepal_length -0.537872   -0.267969  -0.282426\n",
      "sepal_width   0.787053   -2.008321  -0.405987\n",
      "petal_length -2.203777    0.734690   2.704652\n",
      "petal_width  -0.918205   -1.261410   2.191586\n"
     ]
    }
   ],
   "source": [
    "import pandas as pd\n",
    "import numpy as np\n",
    "from sklearn.model_selection import train_test_split\n",
    "from sklearn.linear_model import LogisticRegression\n",
    "\n",
    "# Load the Iris dataset\n",
    "url = \"https://raw.githubusercontent.com/mwaskom/seaborn-data/master/iris.csv\"\n",
    "df = pd.read_csv(url)\n",
    "\n",
    "# Prepare the features and target\n",
    "X = df.drop(columns=['species'])  # Features\n",
    "y = df['species']  # Target variable\n",
    "\n",
    "# Split the data into training (80%) and testing (20%) sets\n",
    "X_train, X_test, y_train, y_test = train_test_split(X, y, test_size=0.2, random_state=42, stratify=y)\n",
    "\n",
    "# Train Logistic Regression\n",
    "model = LogisticRegression(max_iter=1000, multi_class='ovr')\n",
    "model.fit(X_train, y_train)\n",
    "\n",
    "# Get feature importance (coefficients)\n",
    "feature_importance = pd.DataFrame(model.coef_.T, index=X.columns, columns=model.classes_)\n",
    "print(\"🔹 Feature Importance (Model Coefficients):\\n\")\n",
    "print(feature_importance)\n"
   ]
  },
  {
   "cell_type": "markdown",
   "id": "0ba5c663",
   "metadata": {},
   "source": [
    "Q19 Write a Python program to train Logistic Regression and evaluate its performance using Cohen’s Kappa\n",
    "Score"
   ]
  },
  {
   "cell_type": "code",
   "execution_count": 41,
   "id": "7bc6047d",
   "metadata": {},
   "outputs": [
    {
     "name": "stdout",
     "output_type": "stream",
     "text": [
      "🔹 Cohen’s Kappa Score: 0.90\n"
     ]
    }
   ],
   "source": [
    "import pandas as pd\n",
    "from sklearn.model_selection import train_test_split\n",
    "from sklearn.linear_model import LogisticRegression\n",
    "from sklearn.metrics import cohen_kappa_score\n",
    "\n",
    "# Load the Iris dataset\n",
    "url = \"https://raw.githubusercontent.com/mwaskom/seaborn-data/master/iris.csv\"\n",
    "df = pd.read_csv(url)\n",
    "\n",
    "# Prepare the features and target\n",
    "X = df.drop(columns=['species'])  # Features\n",
    "y = df['species']  # Target variable\n",
    "\n",
    "# Split the data into training (80%) and testing (20%) sets\n",
    "X_train, X_test, y_train, y_test = train_test_split(X, y, test_size=0.2, random_state=42, stratify=y)\n",
    "\n",
    "# Train Logistic Regression\n",
    "model = LogisticRegression(max_iter=1000, multi_class='ovr')\n",
    "model.fit(X_train, y_train)\n",
    "\n",
    "# Make predictions\n",
    "y_pred = model.predict(X_test)\n",
    "\n",
    "# Compute Cohen’s Kappa Score\n",
    "kappa_score = cohen_kappa_score(y_test, y_pred)\n",
    "print(f\"🔹 Cohen’s Kappa Score: {kappa_score:.2f}\")\n"
   ]
  },
  {
   "cell_type": "markdown",
   "id": "52ef5ce7",
   "metadata": {},
   "source": [
    "Q20 Write a Python program to train Logistic Regression and visualize the Precision-Recall Curve for binary\n",
    "classificatio"
   ]
  },
  {
   "cell_type": "code",
   "execution_count": 42,
   "id": "4f8c7d95",
   "metadata": {},
   "outputs": [
    {
     "data": {
      "image/png": "[encoded data removed]",
      "text/plain": [
       "<Figure size 800x600 with 1 Axes>"
      ]
     },
     "metadata": {},
     "output_type": "display_data"
    }
   ],
   "source": [
    "import numpy as np\n",
    "import pandas as pd\n",
    "import matplotlib.pyplot as plt\n",
    "from sklearn.model_selection import train_test_split\n",
    "from sklearn.linear_model import LogisticRegression\n",
    "from sklearn.metrics import precision_recall_curve, auc\n",
    "\n",
    "# Load the Breast Cancer dataset from sklearn\n",
    "from sklearn.datasets import load_breast_cancer\n",
    "data = load_breast_cancer()\n",
    "X = data.data\n",
    "y = data.target  # Binary target (0 = Malignant, 1 = Benign)\n",
    "\n",
    "# Split the dataset into training (80%) and testing (20%)\n",
    "X_train, X_test, y_train, y_test = train_test_split(X, y, test_size=0.2, random_state=42, stratify=y)\n",
    "\n",
    "# Train Logistic Regression model\n",
    "model = LogisticRegression(max_iter=1000)\n",
    "model.fit(X_train, y_train)\n",
    "\n",
    "# Get predicted probabilities\n",
    "y_scores = model.predict_proba(X_test)[:, 1]  # Probability for the positive class\n",
    "\n",
    "# Compute Precision-Recall values\n",
    "precision, recall, _ = precision_recall_curve(y_test, y_scores)\n",
    "\n",
    "# Compute Area Under Precision-Recall Curve (PR AUC)\n",
    "pr_auc = auc(recall, precision)\n",
    "\n",
    "# Plot Precision-Recall Curve\n",
    "plt.figure(figsize=(8, 6))\n",
    "plt.plot(recall, precision, label=f'PR Curve (AUC = {pr_auc:.2f})', color='blue')\n",
    "plt.xlabel('Recall')\n",
    "plt.ylabel('Precision')\n",
    "plt.title('Precision-Recall Curve for Logistic Regression')\n",
    "plt.legend(loc='best')\n",
    "plt.grid(True)\n",
    "plt.show()\n"
   ]
  },
  {
   "cell_type": "markdown",
   "id": "b8ad9c89",
   "metadata": {},
   "source": [
    "Q21 Write a Python program to train Logistic Regression with different solvers (liblinear, saga, lbfgs) and compare\n",
    "their accuracy"
   ]
  },
  {
   "cell_type": "code",
   "execution_count": 43,
   "id": "2a37347a",
   "metadata": {},
   "outputs": [
    {
     "name": "stdout",
     "output_type": "stream",
     "text": [
      "Accuracy with liblinear: 0.9561\n",
      "Accuracy with saga: 0.9386\n",
      "Accuracy with lbfgs: 0.9561\n",
      "\n",
      "Comparison of Logistic Regression Solvers:\n",
      "liblinear: 0.9561\n",
      "saga: 0.9386\n",
      "lbfgs: 0.9561\n"
     ]
    }
   ],
   "source": [
    "import numpy as np\n",
    "import pandas as pd\n",
    "from sklearn.model_selection import train_test_split\n",
    "from sklearn.linear_model import LogisticRegression\n",
    "from sklearn.metrics import accuracy_score\n",
    "from sklearn.datasets import load_breast_cancer\n",
    "\n",
    "# Load the Breast Cancer dataset\n",
    "data = load_breast_cancer()\n",
    "X = data.data\n",
    "y = data.target  # Binary classification (0 = Malignant, 1 = Benign)\n",
    "\n",
    "# Split dataset into training (80%) and testing (20%)\n",
    "X_train, X_test, y_train, y_test = train_test_split(X, y, test_size=0.2, random_state=42, stratify=y)\n",
    "\n",
    "# Define different solvers to test\n",
    "solvers = ['liblinear', 'saga', 'lbfgs']\n",
    "accuracy_results = {}\n",
    "\n",
    "# Train Logistic Regression with different solvers and compare accuracy\n",
    "for solver in solvers:\n",
    "    model = LogisticRegression(solver=solver, max_iter=1000, random_state=42)\n",
    "    model.fit(X_train, y_train)\n",
    "    y_pred = model.predict(X_test)\n",
    "    accuracy = accuracy_score(y_test, y_pred)\n",
    "    accuracy_results[solver] = accuracy\n",
    "    print(f\"Accuracy with {solver}: {accuracy:.4f}\")\n",
    "\n",
    "# Print comparison results\n",
    "print(\"\\nComparison of Logistic Regression Solvers:\")\n",
    "for solver, acc in accuracy_results.items():\n",
    "    print(f\"{solver}: {acc:.4f}\")\n"
   ]
  },
  {
   "cell_type": "markdown",
   "id": "055f3570",
   "metadata": {},
   "source": [
    "Q22 Write a Python program to train Logistic Regression and evaluate its performance using Matthews\n",
    "Correlation Coefficient (MCC)"
   ]
  },
  {
   "cell_type": "code",
   "execution_count": 44,
   "id": "fbb074ed",
   "metadata": {},
   "outputs": [
    {
     "name": "stdout",
     "output_type": "stream",
     "text": [
      "Matthews Correlation Coefficient (MCC): 0.9054\n"
     ]
    }
   ],
   "source": [
    "import numpy as np\n",
    "import pandas as pd\n",
    "from sklearn.model_selection import train_test_split\n",
    "from sklearn.linear_model import LogisticRegression\n",
    "from sklearn.metrics import matthews_corrcoef\n",
    "from sklearn.datasets import load_breast_cancer\n",
    "\n",
    "# Load the Breast Cancer dataset (Binary Classification)\n",
    "data = load_breast_cancer()\n",
    "X = data.data\n",
    "y = data.target  # 0 = Malignant, 1 = Benign\n",
    "\n",
    "# Split dataset into training (80%) and testing (20%)\n",
    "X_train, X_test, y_train, y_test = train_test_split(X, y, test_size=0.2, random_state=42, stratify=y)\n",
    "\n",
    "# Train the Logistic Regression model\n",
    "model = LogisticRegression(max_iter=1000, random_state=42)\n",
    "model.fit(X_train, y_train)\n",
    "\n",
    "# Make predictions\n",
    "y_pred = model.predict(X_test)\n",
    "\n",
    "# Calculate Matthews Correlation Coefficient (MCC)\n",
    "mcc_score = matthews_corrcoef(y_test, y_pred)\n",
    "\n",
    "# Print MCC Score\n",
    "print(f\"Matthews Correlation Coefficient (MCC): {mcc_score:.4f}\")\n"
   ]
  },
  {
   "cell_type": "markdown",
   "id": "012a71f8",
   "metadata": {},
   "source": [
    "Q23 Write a Python program to train Logistic Regression on both raw and standardized data. Compare their\n",
    "accuracy to see the impact of feature scaling"
   ]
  },
  {
   "cell_type": "code",
   "execution_count": 45,
   "id": "49e1ddee",
   "metadata": {},
   "outputs": [
    {
     "name": "stdout",
     "output_type": "stream",
     "text": [
      "Accuracy on Raw Data: 0.9561\n",
      "Accuracy on Standardized Data: 0.9825\n"
     ]
    }
   ],
   "source": [
    "import numpy as np\n",
    "import pandas as pd\n",
    "from sklearn.model_selection import train_test_split\n",
    "from sklearn.preprocessing import StandardScaler\n",
    "from sklearn.linear_model import LogisticRegression\n",
    "from sklearn.metrics import accuracy_score\n",
    "from sklearn.datasets import load_breast_cancer\n",
    "\n",
    "# Load the Breast Cancer dataset (Binary Classification)\n",
    "data = load_breast_cancer()\n",
    "X = data.data\n",
    "y = data.target  # 0 = Malignant, 1 = Benign\n",
    "\n",
    "# Split dataset into training (80%) and testing (20%)\n",
    "X_train, X_test, y_train, y_test = train_test_split(X, y, test_size=0.2, random_state=42, stratify=y)\n",
    "\n",
    "# Train Logistic Regression on Raw Data\n",
    "model_raw = LogisticRegression(max_iter=1000, random_state=42)\n",
    "model_raw.fit(X_train, y_train)\n",
    "y_pred_raw = model_raw.predict(X_test)\n",
    "accuracy_raw = accuracy_score(y_test, y_pred_raw)\n",
    "\n",
    "# Apply Standardization (Feature Scaling)\n",
    "scaler = StandardScaler()\n",
    "X_train_scaled = scaler.fit_transform(X_train)\n",
    "X_test_scaled = scaler.transform(X_test)\n",
    "\n",
    "# Train Logistic Regression on Standardized Data\n",
    "model_scaled = LogisticRegression(max_iter=1000, random_state=42)\n",
    "model_scaled.fit(X_train_scaled, y_train)\n",
    "y_pred_scaled = model_scaled.predict(X_test_scaled)\n",
    "accuracy_scaled = accuracy_score(y_test, y_pred_scaled)\n",
    "\n",
    "# Print and Compare Accuracy\n",
    "print(f\"Accuracy on Raw Data: {accuracy_raw:.4f}\")\n",
    "print(f\"Accuracy on Standardized Data: {accuracy_scaled:.4f}\")\n"
   ]
  },
  {
   "cell_type": "markdown",
   "id": "a9079d6b",
   "metadata": {},
   "source": [
    "Q24 Write a Python program to train Logistic Regression and find the optimal C (regularization strength) using\n",
    "cross-validation"
   ]
  },
  {
   "cell_type": "code",
   "execution_count": 46,
   "id": "03a82807",
   "metadata": {},
   "outputs": [
    {
     "name": "stdout",
     "output_type": "stream",
     "text": [
      "Best C (Regularization Strength): 0.046415888336127774\n",
      "Test Accuracy: 0.9825\n"
     ]
    }
   ],
   "source": [
    "import numpy as np\n",
    "import pandas as pd\n",
    "from sklearn.model_selection import train_test_split\n",
    "from sklearn.preprocessing import StandardScaler\n",
    "from sklearn.linear_model import LogisticRegressionCV\n",
    "from sklearn.metrics import accuracy_score\n",
    "from sklearn.datasets import load_breast_cancer\n",
    "\n",
    "# Load the Breast Cancer dataset\n",
    "data = load_breast_cancer()\n",
    "X = data.data\n",
    "y = data.target  # 0 = Malignant, 1 = Benign\n",
    "\n",
    "# Split dataset into training (80%) and testing (20%)\n",
    "X_train, X_test, y_train, y_test = train_test_split(X, y, test_size=0.2, random_state=42, stratify=y)\n",
    "\n",
    "# Apply Standardization (Feature Scaling)\n",
    "scaler = StandardScaler()\n",
    "X_train_scaled = scaler.fit_transform(X_train)\n",
    "X_test_scaled = scaler.transform(X_test)\n",
    "\n",
    "# Use LogisticRegressionCV to find the best C value using 5-fold cross-validation\n",
    "model_cv = LogisticRegressionCV(\n",
    "    Cs=10,            # Try 10 different values of C\n",
    "    cv=5,            # 5-fold cross-validation\n",
    "    penalty='l2',    # Ridge regularization\n",
    "    solver='liblinear',\n",
    "    random_state=42,\n",
    "    max_iter=1000\n",
    ")\n",
    "model_cv.fit(X_train_scaled, y_train)\n",
    "\n",
    "# Get the best C value\n",
    "best_C = model_cv.C_[0]\n",
    "\n",
    "# Make predictions using the best model\n",
    "y_pred = model_cv.predict(X_test_scaled)\n",
    "\n",
    "# Calculate accuracy\n",
    "accuracy = accuracy_score(y_test, y_pred)\n",
    "\n",
    "# Print results\n",
    "print(f\"Best C (Regularization Strength): {best_C}\")\n",
    "print(f\"Test Accuracy: {accuracy:.4f}\")\n"
   ]
  },
  {
   "cell_type": "markdown",
   "id": "d349d0bf",
   "metadata": {},
   "source": [
    "Q25 Write a Python program to train Logistic Regression, save the trained model using joblib, and load it again to\n",
    "make predictions"
   ]
  },
  {
   "cell_type": "code",
   "execution_count": 47,
   "id": "6352c3fe",
   "metadata": {},
   "outputs": [
    {
     "name": "stdout",
     "output_type": "stream",
     "text": [
      "Test Accuracy: 0.9667\n",
      "Predictions from Loaded Model: [0 2 1 1 0]\n"
     ]
    }
   ],
   "source": [
    "import joblib\n",
    "import pandas as pd\n",
    "from sklearn.model_selection import train_test_split\n",
    "from sklearn.linear_model import LogisticRegression\n",
    "from sklearn.metrics import accuracy_score\n",
    "from sklearn.datasets import load_iris\n",
    "\n",
    "# Load the Iris dataset\n",
    "data = load_iris()\n",
    "X = data.data\n",
    "y = data.target  # Multiclass Classification (Setosa, Versicolor, Virginica)\n",
    "\n",
    "# Split dataset into training (80%) and testing (20%)\n",
    "X_train, X_test, y_train, y_test = train_test_split(X, y, test_size=0.2, random_state=42, stratify=y)\n",
    "\n",
    "# Train a Logistic Regression model\n",
    "model = LogisticRegression(max_iter=1000)\n",
    "model.fit(X_train, y_train)\n",
    "\n",
    "# Save the trained model using joblib\n",
    "joblib.dump(model, \"logistic_regression_model.pkl\")\n",
    "\n",
    "# Load the saved model\n",
    "loaded_model = joblib.load(\"logistic_regression_model.pkl\")\n",
    "\n",
    "# Make predictions using the loaded model\n",
    "y_pred = loaded_model.predict(X_test)\n",
    "\n",
    "# Calculate accuracy\n",
    "accuracy = accuracy_score(y_test, y_pred)\n",
    "\n",
    "# Print results\n",
    "print(f\"Test Accuracy: {accuracy:.4f}\")\n",
    "print(\"Predictions from Loaded Model:\", y_pred[:5])  # Print first 5 predictions\n"
   ]
  },
  {
   "cell_type": "code",
   "execution_count": null,
   "id": "dbe06b1b",
   "metadata": {},
   "outputs": [],
   "source": []
  }
 ],
 "metadata": {
  "kernelspec": {
   "display_name": "Python 3 (ipykernel)",
   "language": "python",
   "name": "python3"
  },
  "language_info": {
   "codemirror_mode": {
    "name": "ipython",
    "version": 3
   },
   "file_extension": ".py",
   "mimetype": "text/x-python",
   "name": "python",
   "nbconvert_exporter": "python",
   "pygments_lexer": "ipython3",
   "version": "3.11.5"
  }
 },
 "nbformat": 4,
 "nbformat_minor": 5
}
